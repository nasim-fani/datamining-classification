{
  "nbformat": 4,
  "nbformat_minor": 0,
  "metadata": {
    "colab": {
      "name": "classification.ipynb",
      "provenance": [],
      "include_colab_link": true
    },
    "kernelspec": {
      "name": "python3",
      "display_name": "Python 3"
    },
    "language_info": {
      "name": "python"
    }
  },
  "cells": [
    {
      "cell_type": "markdown",
      "metadata": {
        "id": "view-in-github",
        "colab_type": "text"
      },
      "source": [
        "<a href=\"https://colab.research.google.com/github/nasim-fani/datamining-classification/blob/main/classification.ipynb\" target=\"_parent\"><img src=\"https://colab.research.google.com/assets/colab-badge.svg\" alt=\"Open In Colab\"/></a>"
      ]
    },
    {
      "cell_type": "code",
      "metadata": {
        "id": "Sz6mASnbEs7P"
      },
      "source": [
        "from google.colab import drive\n",
        "drive.mount('/content/gdrive')"
      ],
      "execution_count": null,
      "outputs": []
    },
    {
      "cell_type": "code",
      "metadata": {
        "colab": {
          "base_uri": "https://localhost:8080/"
        },
        "id": "aESrSl954pWD",
        "outputId": "e89aa676-8caf-40c2-efc4-5c3696d5d6c7"
      },
      "source": [
        "!pip install apyori"
      ],
      "execution_count": null,
      "outputs": [
        {
          "output_type": "stream",
          "text": [
            "Requirement already satisfied: apyori in /usr/local/lib/python3.7/dist-packages (1.1.2)\n"
          ],
          "name": "stdout"
        }
      ]
    },
    {
      "cell_type": "code",
      "metadata": {
        "id": "A090tg8j5Uv2"
      },
      "source": [
        "import pandas as pd\n",
        "from apyori import apriori\n"
      ],
      "execution_count": null,
      "outputs": []
    },
    {
      "cell_type": "code",
      "metadata": {
        "id": "e0r-8Oaa6j-4"
      },
      "source": [
        "get_ipython().system_raw(\"unrar x /content/drive/MyDrive/datasets/divar_dataset.rar\")\n",
        "get_ipython().system_raw(\"unrar x /content/drive/MyDrive/digikala_dataset.rar\")"
      ],
      "execution_count": null,
      "outputs": []
    },
    {
      "cell_type": "code",
      "metadata": {
        "colab": {
          "base_uri": "https://localhost:8080/",
          "height": 559
        },
        "id": "hNtQkzfc6Hxx",
        "outputId": "3f1e02e5-a889-44e8-b270-7b82f065fba0"
      },
      "source": [
        "digi_product = pd.read_excel (r'/content/product.xlsx')\n",
        "digi_product.head()"
      ],
      "execution_count": null,
      "outputs": [
        {
          "output_type": "execute_result",
          "data": {
            "text/html": [
              "<div>\n",
              "<style scoped>\n",
              "    .dataframe tbody tr th:only-of-type {\n",
              "        vertical-align: middle;\n",
              "    }\n",
              "\n",
              "    .dataframe tbody tr th {\n",
              "        vertical-align: top;\n",
              "    }\n",
              "\n",
              "    .dataframe thead th {\n",
              "        text-align: right;\n",
              "    }\n",
              "</style>\n",
              "<table border=\"1\" class=\"dataframe\">\n",
              "  <thead>\n",
              "    <tr style=\"text-align: right;\">\n",
              "      <th></th>\n",
              "      <th>id</th>\n",
              "      <th>product_title_fa</th>\n",
              "      <th>product_title_en</th>\n",
              "      <th>url_code</th>\n",
              "      <th>title_alt</th>\n",
              "      <th>category_title_fa</th>\n",
              "      <th>category_keywords</th>\n",
              "      <th>brand_name_fa</th>\n",
              "      <th>brand_name_en</th>\n",
              "      <th>product_attributes</th>\n",
              "    </tr>\n",
              "  </thead>\n",
              "  <tbody>\n",
              "    <tr>\n",
              "      <th>0</th>\n",
              "      <td>723302</td>\n",
              "      <td>ماگ حرارتی لومانا مدل عرفانه کد MAG1042</td>\n",
              "      <td>NaN</td>\n",
              "      <td>ماگ-حرارتی-لومانا-مدل-عرفانه-کد-mag1042</td>\n",
              "      <td>mug، لیوان ، ماگ ، فنجان ، لیوان دسته دار ، لو...</td>\n",
              "      <td>ماگ، لیوان و فنجان</td>\n",
              "      <td>ماگ، لیوان و فنجان CupandMug</td>\n",
              "      <td>لومانا</td>\n",
              "      <td>Lomana</td>\n",
              "      <td>[{\"Key\":\"وزن بسته‌بندی\",\"Value\":\"480\"},{\"Key\":...</td>\n",
              "    </tr>\n",
              "    <tr>\n",
              "      <th>1</th>\n",
              "      <td>727089</td>\n",
              "      <td>ست آبکش و آبگیر تیتیز مدل AP-9141 سایز متوسط</td>\n",
              "      <td>NaN</td>\n",
              "      <td>ست-آبکش-و-آبگیر-تیتیز-مدل-ap-9141-سایز-متوسط</td>\n",
              "      <td>;hsi, steel, کاسه، کاسه بامبو، لگن، کالا خانه ...</td>\n",
              "      <td>آبکش و آبگیر</td>\n",
              "      <td>آبکش و آبگیر VirgoBasin</td>\n",
              "      <td>تیتیز</td>\n",
              "      <td>Titiz</td>\n",
              "      <td>[{\"Key\":\"دستگیره\",\"Value\":\"1 جفت\"},{\"Key\":\"نوع...</td>\n",
              "    </tr>\n",
              "    <tr>\n",
              "      <th>2</th>\n",
              "      <td>727096</td>\n",
              "      <td>روغن مرطوب کننده کدلی مدل Divine oil حجم 50 می...</td>\n",
              "      <td>NaN</td>\n",
              "      <td>روغن-مرطوب-کننده-کدلی-مدل-divine-oil-حجم-50-می...</td>\n",
              "      <td>NaN</td>\n",
              "      <td>روغن صورت</td>\n",
              "      <td>روغن صورت Face-Oil</td>\n",
              "      <td>کدلی</td>\n",
              "      <td>CAUDALIE</td>\n",
              "      <td>[{\"Key\":\"حجم\",\"Value\":\"50\"},{\"Key\":\"نوع عصاره\"...</td>\n",
              "    </tr>\n",
              "    <tr>\n",
              "      <th>3</th>\n",
              "      <td>727803</td>\n",
              "      <td>ست لحاف پوپلین هوبی مدل اما یکنفره چهار تکه کاوری</td>\n",
              "      <td>Hobby Emma Quilt Single Set - 4 Pieces</td>\n",
              "      <td>ست-لحاف-پوپلین-هوبی-مدل-اما-یکنفره-چهار-تکه-کاوری</td>\n",
              "      <td>روتختی اسپرت، اما، emma، روتختی یکنفره، لحاف ی...</td>\n",
              "      <td>سرویس خواب</td>\n",
              "      <td>سرویس خواب SleepSet</td>\n",
              "      <td>هوبی</td>\n",
              "      <td>Hobby</td>\n",
              "      <td>[{\"Key\":\"ابعاد رو بالشی\",\"Value\":\"50×70\"},{\"Ke...</td>\n",
              "    </tr>\n",
              "    <tr>\n",
              "      <th>4</th>\n",
              "      <td>725222</td>\n",
              "      <td>ماگ آبنبات رنگی مدل AR0143</td>\n",
              "      <td>NaN</td>\n",
              "      <td>ماگ-آبنبات-رنگی-مدل-ar0143</td>\n",
              "      <td>ماگ آبنبات رنگی،شذدشذشفقشدله،Mag Abnabatrangi</td>\n",
              "      <td>ماگ، لیوان و فنجان</td>\n",
              "      <td>ماگ، لیوان و فنجان CupandMug</td>\n",
              "      <td>متفرقه</td>\n",
              "      <td>Miscellaneous</td>\n",
              "      <td>[{\"Key\":\"در\",\"Value\":\"ندارد\"},{\"Key\":\"جنس\",\"Va...</td>\n",
              "    </tr>\n",
              "  </tbody>\n",
              "</table>\n",
              "</div>"
            ],
            "text/plain": [
              "       id  ...                                 product_attributes\n",
              "0  723302  ...  [{\"Key\":\"وزن بسته‌بندی\",\"Value\":\"480\"},{\"Key\":...\n",
              "1  727089  ...  [{\"Key\":\"دستگیره\",\"Value\":\"1 جفت\"},{\"Key\":\"نوع...\n",
              "2  727096  ...  [{\"Key\":\"حجم\",\"Value\":\"50\"},{\"Key\":\"نوع عصاره\"...\n",
              "3  727803  ...  [{\"Key\":\"ابعاد رو بالشی\",\"Value\":\"50×70\"},{\"Ke...\n",
              "4  725222  ...  [{\"Key\":\"در\",\"Value\":\"ندارد\"},{\"Key\":\"جنس\",\"Va...\n",
              "\n",
              "[5 rows x 10 columns]"
            ]
          },
          "metadata": {
            "tags": []
          },
          "execution_count": 9
        }
      ]
    },
    {
      "cell_type": "code",
      "metadata": {
        "colab": {
          "base_uri": "https://localhost:8080/"
        },
        "id": "Pg-0zRsvPDuF",
        "outputId": "c2456e43-2599-47fb-f198-5b43283cdcc4"
      },
      "source": [
        "from google.colab import drive\n",
        "drive.mount('/content/drive')"
      ],
      "execution_count": null,
      "outputs": [
        {
          "output_type": "stream",
          "text": [
            "Drive already mounted at /content/drive; to attempt to forcibly remount, call drive.mount(\"/content/drive\", force_remount=True).\n"
          ],
          "name": "stdout"
        }
      ]
    },
    {
      "cell_type": "code",
      "metadata": {
        "colab": {
          "base_uri": "https://localhost:8080/"
        },
        "id": "V7Kf3ICSQiZq",
        "outputId": "bc0cd3a2-0544-4a57-b139-351faa20091c"
      },
      "source": [
        "!pip install unrar\n",
        "!unrar x drive/MyDrive/divar_dataset.rar "
      ],
      "execution_count": null,
      "outputs": [
        {
          "output_type": "stream",
          "text": [
            "Collecting unrar\n",
            "  Downloading https://files.pythonhosted.org/packages/bb/0b/53130ccd483e3db8c8a460cb579bdb21b458d5494d67a261e1a5b273fbb9/unrar-0.4-py3-none-any.whl\n",
            "Installing collected packages: unrar\n",
            "Successfully installed unrar-0.4\n",
            "\n",
            "UNRAR 5.50 freeware      Copyright (c) 1993-2017 Alexander Roshal\n",
            "\n",
            "\n",
            "Extracting from drive/MyDrive/divar_dataset.rar\n",
            "\n",
            "Powered By CamelCase.ir :)\n",
            "Enjoy Programming Tutorial With CamelCase.ir .\n",
            "\n",
            "Extracting  divar_posts_dataset.csv                                      \b\b\b\b  7%\b\b\b\b 14%\b\b\b\b 21%\b\b\b\b 28%\b\b\b\b 35%\b\b\b\b 42%\b\b\b\b 49%\b\b\b\b 56%\b\b\b\b 64%\b\b\b\b 71%\b\b\b\b 78%\b\b\b\b 85%\b\b\b\b 92%\b\b\b\b 99%\b\b\b\b\b  OK \n",
            "Extracting  camelcase.png                                                \b\b\b\b 99%\b\b\b\b\b  OK \n",
            "All OK\n"
          ],
          "name": "stdout"
        }
      ]
    },
    {
      "cell_type": "code",
      "metadata": {
        "colab": {
          "base_uri": "https://localhost:8080/",
          "height": 542
        },
        "id": "pFtYmuZe7Q3R",
        "outputId": "cb4dd10f-b829-4126-e6dd-e0cce9aefe75"
      },
      "source": [
        "digi_keifiat = pd.read_excel (r'/content/keifiat.xlsx')\n",
        "digi_keifiat.head()"
      ],
      "execution_count": null,
      "outputs": [
        {
          "output_type": "execute_result",
          "data": {
            "text/html": [
              "<div>\n",
              "<style scoped>\n",
              "    .dataframe tbody tr th:only-of-type {\n",
              "        vertical-align: middle;\n",
              "    }\n",
              "\n",
              "    .dataframe tbody tr th {\n",
              "        vertical-align: top;\n",
              "    }\n",
              "\n",
              "    .dataframe thead th {\n",
              "        text-align: right;\n",
              "    }\n",
              "</style>\n",
              "<table border=\"1\" class=\"dataframe\">\n",
              "  <thead>\n",
              "    <tr style=\"text-align: right;\">\n",
              "      <th></th>\n",
              "      <th>product_id</th>\n",
              "      <th>product_title</th>\n",
              "      <th>title_en</th>\n",
              "      <th>user_id</th>\n",
              "      <th>likes</th>\n",
              "      <th>dislikes</th>\n",
              "      <th>verification_status</th>\n",
              "      <th>recommend</th>\n",
              "      <th>title</th>\n",
              "      <th>comment</th>\n",
              "      <th>advantages</th>\n",
              "      <th>disadvantages</th>\n",
              "    </tr>\n",
              "  </thead>\n",
              "  <tbody>\n",
              "    <tr>\n",
              "      <th>0</th>\n",
              "      <td>3692</td>\n",
              "      <td>ماوس بی‌سیم لاجیتک مدل M325</td>\n",
              "      <td>IT</td>\n",
              "      <td>989472</td>\n",
              "      <td>0</td>\n",
              "      <td>0</td>\n",
              "      <td>verified</td>\n",
              "      <td>\\N</td>\n",
              "      <td>NaN</td>\n",
              "      <td>واقعا عالیه. من که ازش خیلی راضیم</td>\n",
              "      <td>NaN</td>\n",
              "      <td>NaN</td>\n",
              "    </tr>\n",
              "    <tr>\n",
              "      <th>1</th>\n",
              "      <td>90213</td>\n",
              "      <td>شارژر همراه شیاومی مدل NDY-02-AN با ظرفیت 1000...</td>\n",
              "      <td>AC</td>\n",
              "      <td>3862150</td>\n",
              "      <td>4</td>\n",
              "      <td>1</td>\n",
              "      <td>verified</td>\n",
              "      <td>recommended</td>\n",
              "      <td>واقعاً عالیه</td>\n",
              "      <td>سلام، قبل اینکه نظرم رو بگم میخواستم به یک موض...</td>\n",
              "      <td>[\"عمر طولانی\\r\",\"افت بسیار کم میزان شارژ\\r\",\"ا...</td>\n",
              "      <td>[\"ندارد\"]</td>\n",
              "    </tr>\n",
              "    <tr>\n",
              "      <th>2</th>\n",
              "      <td>59473</td>\n",
              "      <td>یدک پولیشر میکروفایبر مهسان مدل 20119</td>\n",
              "      <td>HW</td>\n",
              "      <td>626843</td>\n",
              "      <td>1</td>\n",
              "      <td>0</td>\n",
              "      <td>verified</td>\n",
              "      <td>not_recommended</td>\n",
              "      <td>خیلی سخت حوله اش در میاد</td>\n",
              "      <td>گیره های فلزی خیلی سخت تا میشوند و لذا حوله را...</td>\n",
              "      <td>NaN</td>\n",
              "      <td>NaN</td>\n",
              "    </tr>\n",
              "    <tr>\n",
              "      <th>3</th>\n",
              "      <td>120499</td>\n",
              "      <td>گوشی موبایل هوآوی آنر مدل 5X KIW-L21 دو سیم‌کارت</td>\n",
              "      <td>MO</td>\n",
              "      <td>786887</td>\n",
              "      <td>6</td>\n",
              "      <td>11</td>\n",
              "      <td>verified</td>\n",
              "      <td>no_idea</td>\n",
              "      <td>گوشی مقرون به صرفه</td>\n",
              "      <td>همه چیز در رابطه با ظاهر این گوشی بسیار خوب اس...</td>\n",
              "      <td>[\"صفحه نمایش پرنور و با کیفیت\\r\",\"کیفیت بالای ...</td>\n",
              "      <td>[\"کیفیت پایین اسپیکر\\r\",\"حاشیه خالی زیر صفحه ن...</td>\n",
              "    </tr>\n",
              "    <tr>\n",
              "      <th>4</th>\n",
              "      <td>67200</td>\n",
              "      <td>شارژر همراه شیائومی مدل Mi ظرفیت 5000 میلی آمپ...</td>\n",
              "      <td>AC</td>\n",
              "      <td>854531</td>\n",
              "      <td>19</td>\n",
              "      <td>4</td>\n",
              "      <td>verified</td>\n",
              "      <td>no_idea</td>\n",
              "      <td>ابعاد، استحکام و نگهداری شارژ مناسب</td>\n",
              "      <td>اگر ظرفیتش براتون کافیه حتما بخرید.\\r\\nیه شارژ...</td>\n",
              "      <td>[\"ظریف و زیبا و باریک\\r\",\"بدنه محکم و با دوام\"]</td>\n",
              "      <td>[\"ظرفیت متوسط\"]</td>\n",
              "    </tr>\n",
              "  </tbody>\n",
              "</table>\n",
              "</div>"
            ],
            "text/plain": [
              "   product_id  ...                                      disadvantages\n",
              "0        3692  ...                                                NaN\n",
              "1       90213  ...                                          [\"ندارد\"]\n",
              "2       59473  ...                                                NaN\n",
              "3      120499  ...  [\"کیفیت پایین اسپیکر\\r\",\"حاشیه خالی زیر صفحه ن...\n",
              "4       67200  ...                                    [\"ظرفیت متوسط\"]\n",
              "\n",
              "[5 rows x 12 columns]"
            ]
          },
          "metadata": {
            "tags": []
          },
          "execution_count": 11
        }
      ]
    },
    {
      "cell_type": "code",
      "metadata": {
        "id": "oVy3cwou8ISq"
      },
      "source": [
        "divar_dataset = pd.read_csv(\"divar_posts_dataset.csv\")\n",
        "digikala_dataset = pd.read_csv(\"orders.csv\")"
      ],
      "execution_count": null,
      "outputs": []
    },
    {
      "cell_type": "code",
      "metadata": {
        "colab": {
          "base_uri": "https://localhost:8080/",
          "height": 526
        },
        "id": "q3pG5eop95fo",
        "outputId": "6a814d4d-9899-40ce-9b5b-fba63c85cd31"
      },
      "source": [
        "divar_dataset.head()"
      ],
      "execution_count": null,
      "outputs": [
        {
          "output_type": "execute_result",
          "data": {
            "text/html": [
              "<div>\n",
              "<style scoped>\n",
              "    .dataframe tbody tr th:only-of-type {\n",
              "        vertical-align: middle;\n",
              "    }\n",
              "\n",
              "    .dataframe tbody tr th {\n",
              "        vertical-align: top;\n",
              "    }\n",
              "\n",
              "    .dataframe thead th {\n",
              "        text-align: right;\n",
              "    }\n",
              "</style>\n",
              "<table border=\"1\" class=\"dataframe\">\n",
              "  <thead>\n",
              "    <tr style=\"text-align: right;\">\n",
              "      <th></th>\n",
              "      <th>Unnamed: 0</th>\n",
              "      <th>archive_by_user</th>\n",
              "      <th>brand</th>\n",
              "      <th>cat1</th>\n",
              "      <th>cat2</th>\n",
              "      <th>cat3</th>\n",
              "      <th>city</th>\n",
              "      <th>created_at</th>\n",
              "      <th>desc</th>\n",
              "      <th>id</th>\n",
              "      <th>image_count</th>\n",
              "      <th>mileage</th>\n",
              "      <th>platform</th>\n",
              "      <th>price</th>\n",
              "      <th>title</th>\n",
              "      <th>type</th>\n",
              "      <th>year</th>\n",
              "    </tr>\n",
              "  </thead>\n",
              "  <tbody>\n",
              "    <tr>\n",
              "      <th>0</th>\n",
              "      <td>0</td>\n",
              "      <td>False</td>\n",
              "      <td>NaN</td>\n",
              "      <td>for-the-home</td>\n",
              "      <td>furniture-and-home-decore</td>\n",
              "      <td>sofa-armchair</td>\n",
              "      <td>Tehran</td>\n",
              "      <td>Tuesday 07PM</td>\n",
              "      <td>کلاسیک و شیک و استثنایی\\nچرم مالزی\\nچوب راش\\nف...</td>\n",
              "      <td>54761638662241</td>\n",
              "      <td>5</td>\n",
              "      <td>NaN</td>\n",
              "      <td>mobile</td>\n",
              "      <td>3850000</td>\n",
              "      <td>ست مبلمان و نهارخوری ٩ نفره</td>\n",
              "      <td>NaN</td>\n",
              "      <td>NaN</td>\n",
              "    </tr>\n",
              "    <tr>\n",
              "      <th>1</th>\n",
              "      <td>1</td>\n",
              "      <td>False</td>\n",
              "      <td>NaN</td>\n",
              "      <td>for-the-home</td>\n",
              "      <td>furniture-and-home-decore</td>\n",
              "      <td>antiques-and-art</td>\n",
              "      <td>Mashhad</td>\n",
              "      <td>Tuesday 07PM</td>\n",
              "      <td>سلام,یک عدد گلدون نخل سه طبقه ی سالم دارم با پ...</td>\n",
              "      <td>42727631379133</td>\n",
              "      <td>1</td>\n",
              "      <td>NaN</td>\n",
              "      <td>mobile</td>\n",
              "      <td>30000</td>\n",
              "      <td>گلدون مصنوعی نخل</td>\n",
              "      <td>NaN</td>\n",
              "      <td>NaN</td>\n",
              "    </tr>\n",
              "    <tr>\n",
              "      <th>2</th>\n",
              "      <td>2</td>\n",
              "      <td>False</td>\n",
              "      <td>NaN</td>\n",
              "      <td>vehicles</td>\n",
              "      <td>cars</td>\n",
              "      <td>heavy</td>\n",
              "      <td>Mashhad</td>\n",
              "      <td>Tuesday 07PM</td>\n",
              "      <td>سریال 43j$NUMبدون شکستگی سه حلقه لاستیک نو یک ...</td>\n",
              "      <td>63194439667302</td>\n",
              "      <td>4</td>\n",
              "      <td>NaN</td>\n",
              "      <td>mobile</td>\n",
              "      <td>-1</td>\n",
              "      <td>لودر کاتر پیلار 950</td>\n",
              "      <td>NaN</td>\n",
              "      <td>NaN</td>\n",
              "    </tr>\n",
              "    <tr>\n",
              "      <th>3</th>\n",
              "      <td>3</td>\n",
              "      <td>False</td>\n",
              "      <td>NaN</td>\n",
              "      <td>for-the-home</td>\n",
              "      <td>furniture-and-home-decore</td>\n",
              "      <td>sofa-armchair</td>\n",
              "      <td>Tehran</td>\n",
              "      <td>Tuesday 07PM</td>\n",
              "      <td>مبل راحتی هفت نفره شامل سه نفره یک عدد دونفره ...</td>\n",
              "      <td>19133025491169</td>\n",
              "      <td>4</td>\n",
              "      <td>NaN</td>\n",
              "      <td>mobile</td>\n",
              "      <td>600000</td>\n",
              "      <td>مبل راحتی هفت نفره بامیز جلو مبلی</td>\n",
              "      <td>NaN</td>\n",
              "      <td>NaN</td>\n",
              "    </tr>\n",
              "    <tr>\n",
              "      <th>4</th>\n",
              "      <td>4</td>\n",
              "      <td>False</td>\n",
              "      <td>NaN</td>\n",
              "      <td>personal</td>\n",
              "      <td>baby-and-toys</td>\n",
              "      <td>personal-toys</td>\n",
              "      <td>Karaj</td>\n",
              "      <td>Tuesday 08PM</td>\n",
              "      <td>شارژی کنترلی سویچ حمل تا 35 کیلو صندلی برای دو...</td>\n",
              "      <td>58998998335444</td>\n",
              "      <td>2</td>\n",
              "      <td>NaN</td>\n",
              "      <td>mobile</td>\n",
              "      <td>450000</td>\n",
              "      <td>ماشین شارژی</td>\n",
              "      <td>NaN</td>\n",
              "      <td>NaN</td>\n",
              "    </tr>\n",
              "  </tbody>\n",
              "</table>\n",
              "</div>"
            ],
            "text/plain": [
              "   Unnamed: 0  archive_by_user  ... type year\n",
              "0           0            False  ...  NaN  NaN\n",
              "1           1            False  ...  NaN  NaN\n",
              "2           2            False  ...  NaN  NaN\n",
              "3           3            False  ...  NaN  NaN\n",
              "4           4            False  ...  NaN  NaN\n",
              "\n",
              "[5 rows x 17 columns]"
            ]
          },
          "metadata": {
            "tags": []
          },
          "execution_count": 16
        }
      ]
    },
    {
      "cell_type": "code",
      "metadata": {
        "colab": {
          "base_uri": "https://localhost:8080/",
          "height": 203
        },
        "id": "VSIkzc509_FN",
        "outputId": "a33b1456-db0b-42bb-dda1-9603460d8497"
      },
      "source": [
        "digikala_dataset.head()"
      ],
      "execution_count": null,
      "outputs": [
        {
          "output_type": "execute_result",
          "data": {
            "text/html": [
              "<div>\n",
              "<style scoped>\n",
              "    .dataframe tbody tr th:only-of-type {\n",
              "        vertical-align: middle;\n",
              "    }\n",
              "\n",
              "    .dataframe tbody tr th {\n",
              "        vertical-align: top;\n",
              "    }\n",
              "\n",
              "    .dataframe thead th {\n",
              "        text-align: right;\n",
              "    }\n",
              "</style>\n",
              "<table border=\"1\" class=\"dataframe\">\n",
              "  <thead>\n",
              "    <tr style=\"text-align: right;\">\n",
              "      <th></th>\n",
              "      <th>ID_Order</th>\n",
              "      <th>ID_Customer</th>\n",
              "      <th>ID_Item</th>\n",
              "      <th>DateTime_CartFinalize</th>\n",
              "      <th>Amount_Gross_Order</th>\n",
              "      <th>city_name_fa</th>\n",
              "      <th>Quantity_item</th>\n",
              "    </tr>\n",
              "  </thead>\n",
              "  <tbody>\n",
              "    <tr>\n",
              "      <th>0</th>\n",
              "      <td>2714054</td>\n",
              "      <td>469662</td>\n",
              "      <td>21386</td>\n",
              "      <td>2015-10-15 08:50:56.000</td>\n",
              "      <td>597982.0</td>\n",
              "      <td>محمود آباد</td>\n",
              "      <td>1.0</td>\n",
              "    </tr>\n",
              "    <tr>\n",
              "      <th>1</th>\n",
              "      <td>11104039</td>\n",
              "      <td>3063877</td>\n",
              "      <td>248497</td>\n",
              "      <td>2018-02-11 00:29:26.000</td>\n",
              "      <td>980000.0</td>\n",
              "      <td>خرمدره</td>\n",
              "      <td>1.0</td>\n",
              "    </tr>\n",
              "    <tr>\n",
              "      <th>2</th>\n",
              "      <td>4228130</td>\n",
              "      <td>3184893</td>\n",
              "      <td>50144</td>\n",
              "      <td>2016-06-14 00:30:08.000</td>\n",
              "      <td>229358.0</td>\n",
              "      <td>قرچک</td>\n",
              "      <td>1.0</td>\n",
              "    </tr>\n",
              "    <tr>\n",
              "      <th>3</th>\n",
              "      <td>22225624</td>\n",
              "      <td>6888562</td>\n",
              "      <td>70208</td>\n",
              "      <td>2018-09-03 14:37:19.000</td>\n",
              "      <td>16514.0</td>\n",
              "      <td>قم</td>\n",
              "      <td>1.0</td>\n",
              "    </tr>\n",
              "    <tr>\n",
              "      <th>4</th>\n",
              "      <td>4068771</td>\n",
              "      <td>2533490</td>\n",
              "      <td>67627</td>\n",
              "      <td>2016-05-21 11:51:02.000</td>\n",
              "      <td>133028.0</td>\n",
              "      <td>تهران</td>\n",
              "      <td>1.0</td>\n",
              "    </tr>\n",
              "  </tbody>\n",
              "</table>\n",
              "</div>"
            ],
            "text/plain": [
              "   ID_Order  ID_Customer  ...  city_name_fa Quantity_item\n",
              "0   2714054       469662  ...    محمود آباد           1.0\n",
              "1  11104039      3063877  ...        خرمدره           1.0\n",
              "2   4228130      3184893  ...          قرچک           1.0\n",
              "3  22225624      6888562  ...            قم           1.0\n",
              "4   4068771      2533490  ...         تهران           1.0\n",
              "\n",
              "[5 rows x 7 columns]"
            ]
          },
          "metadata": {
            "tags": []
          },
          "execution_count": 17
        }
      ]
    },
    {
      "cell_type": "code",
      "metadata": {
        "colab": {
          "base_uri": "https://localhost:8080/",
          "height": 626
        },
        "id": "TKmLM_fX-h1j",
        "outputId": "90b37139-fd55-4232-a581-4d4b1486bcd6"
      },
      "source": [
        "divar_dataset['categories'] = divar_dataset['cat1']+\" \"+divar_dataset['cat2']+\" \"+divar_dataset['cat3']\n",
        "divar_dataset.head()"
      ],
      "execution_count": null,
      "outputs": [
        {
          "output_type": "execute_result",
          "data": {
            "text/html": [
              "<div>\n",
              "<style scoped>\n",
              "    .dataframe tbody tr th:only-of-type {\n",
              "        vertical-align: middle;\n",
              "    }\n",
              "\n",
              "    .dataframe tbody tr th {\n",
              "        vertical-align: top;\n",
              "    }\n",
              "\n",
              "    .dataframe thead th {\n",
              "        text-align: right;\n",
              "    }\n",
              "</style>\n",
              "<table border=\"1\" class=\"dataframe\">\n",
              "  <thead>\n",
              "    <tr style=\"text-align: right;\">\n",
              "      <th></th>\n",
              "      <th>Unnamed: 0</th>\n",
              "      <th>archive_by_user</th>\n",
              "      <th>brand</th>\n",
              "      <th>cat1</th>\n",
              "      <th>cat2</th>\n",
              "      <th>cat3</th>\n",
              "      <th>city</th>\n",
              "      <th>created_at</th>\n",
              "      <th>desc</th>\n",
              "      <th>id</th>\n",
              "      <th>image_count</th>\n",
              "      <th>mileage</th>\n",
              "      <th>platform</th>\n",
              "      <th>price</th>\n",
              "      <th>title</th>\n",
              "      <th>type</th>\n",
              "      <th>year</th>\n",
              "      <th>categories</th>\n",
              "    </tr>\n",
              "  </thead>\n",
              "  <tbody>\n",
              "    <tr>\n",
              "      <th>0</th>\n",
              "      <td>0</td>\n",
              "      <td>False</td>\n",
              "      <td>NaN</td>\n",
              "      <td>for-the-home</td>\n",
              "      <td>furniture-and-home-decore</td>\n",
              "      <td>sofa-armchair</td>\n",
              "      <td>Tehran</td>\n",
              "      <td>Tuesday 07PM</td>\n",
              "      <td>کلاسیک و شیک و استثنایی\\nچرم مالزی\\nچوب راش\\nف...</td>\n",
              "      <td>54761638662241</td>\n",
              "      <td>5</td>\n",
              "      <td>NaN</td>\n",
              "      <td>mobile</td>\n",
              "      <td>3850000</td>\n",
              "      <td>ست مبلمان و نهارخوری ٩ نفره</td>\n",
              "      <td>NaN</td>\n",
              "      <td>NaN</td>\n",
              "      <td>for-the-home furniture-and-home-decore sofa-ar...</td>\n",
              "    </tr>\n",
              "    <tr>\n",
              "      <th>1</th>\n",
              "      <td>1</td>\n",
              "      <td>False</td>\n",
              "      <td>NaN</td>\n",
              "      <td>for-the-home</td>\n",
              "      <td>furniture-and-home-decore</td>\n",
              "      <td>antiques-and-art</td>\n",
              "      <td>Mashhad</td>\n",
              "      <td>Tuesday 07PM</td>\n",
              "      <td>سلام,یک عدد گلدون نخل سه طبقه ی سالم دارم با پ...</td>\n",
              "      <td>42727631379133</td>\n",
              "      <td>1</td>\n",
              "      <td>NaN</td>\n",
              "      <td>mobile</td>\n",
              "      <td>30000</td>\n",
              "      <td>گلدون مصنوعی نخل</td>\n",
              "      <td>NaN</td>\n",
              "      <td>NaN</td>\n",
              "      <td>for-the-home furniture-and-home-decore antique...</td>\n",
              "    </tr>\n",
              "    <tr>\n",
              "      <th>2</th>\n",
              "      <td>2</td>\n",
              "      <td>False</td>\n",
              "      <td>NaN</td>\n",
              "      <td>vehicles</td>\n",
              "      <td>cars</td>\n",
              "      <td>heavy</td>\n",
              "      <td>Mashhad</td>\n",
              "      <td>Tuesday 07PM</td>\n",
              "      <td>سریال 43j$NUMبدون شکستگی سه حلقه لاستیک نو یک ...</td>\n",
              "      <td>63194439667302</td>\n",
              "      <td>4</td>\n",
              "      <td>NaN</td>\n",
              "      <td>mobile</td>\n",
              "      <td>-1</td>\n",
              "      <td>لودر کاتر پیلار 950</td>\n",
              "      <td>NaN</td>\n",
              "      <td>NaN</td>\n",
              "      <td>vehicles cars heavy</td>\n",
              "    </tr>\n",
              "    <tr>\n",
              "      <th>3</th>\n",
              "      <td>3</td>\n",
              "      <td>False</td>\n",
              "      <td>NaN</td>\n",
              "      <td>for-the-home</td>\n",
              "      <td>furniture-and-home-decore</td>\n",
              "      <td>sofa-armchair</td>\n",
              "      <td>Tehran</td>\n",
              "      <td>Tuesday 07PM</td>\n",
              "      <td>مبل راحتی هفت نفره شامل سه نفره یک عدد دونفره ...</td>\n",
              "      <td>19133025491169</td>\n",
              "      <td>4</td>\n",
              "      <td>NaN</td>\n",
              "      <td>mobile</td>\n",
              "      <td>600000</td>\n",
              "      <td>مبل راحتی هفت نفره بامیز جلو مبلی</td>\n",
              "      <td>NaN</td>\n",
              "      <td>NaN</td>\n",
              "      <td>for-the-home furniture-and-home-decore sofa-ar...</td>\n",
              "    </tr>\n",
              "    <tr>\n",
              "      <th>4</th>\n",
              "      <td>4</td>\n",
              "      <td>False</td>\n",
              "      <td>NaN</td>\n",
              "      <td>personal</td>\n",
              "      <td>baby-and-toys</td>\n",
              "      <td>personal-toys</td>\n",
              "      <td>Karaj</td>\n",
              "      <td>Tuesday 08PM</td>\n",
              "      <td>شارژی کنترلی سویچ حمل تا 35 کیلو صندلی برای دو...</td>\n",
              "      <td>58998998335444</td>\n",
              "      <td>2</td>\n",
              "      <td>NaN</td>\n",
              "      <td>mobile</td>\n",
              "      <td>450000</td>\n",
              "      <td>ماشین شارژی</td>\n",
              "      <td>NaN</td>\n",
              "      <td>NaN</td>\n",
              "      <td>personal baby-and-toys personal-toys</td>\n",
              "    </tr>\n",
              "  </tbody>\n",
              "</table>\n",
              "</div>"
            ],
            "text/plain": [
              "   Unnamed: 0  ...                                         categories\n",
              "0           0  ...  for-the-home furniture-and-home-decore sofa-ar...\n",
              "1           1  ...  for-the-home furniture-and-home-decore antique...\n",
              "2           2  ...                                vehicles cars heavy\n",
              "3           3  ...  for-the-home furniture-and-home-decore sofa-ar...\n",
              "4           4  ...               personal baby-and-toys personal-toys\n",
              "\n",
              "[5 rows x 18 columns]"
            ]
          },
          "metadata": {
            "tags": []
          },
          "execution_count": 18
        }
      ]
    },
    {
      "cell_type": "code",
      "metadata": {
        "id": "-nc5vCFa-_0k",
        "colab": {
          "base_uri": "https://localhost:8080/"
        },
        "outputId": "dd3d20fc-0f09-4224-d2fc-a9aad696d785"
      },
      "source": [
        "pairs = divar_dataset[['city','categories']]\n",
        "pairs = pairs.dropna()\n",
        "list_of_pairs = []\n",
        "for i in range(len(pairs)):\n",
        "    list_of_pairs.append([str(pairs.values[i,j]) for j in range(0, 2)])\n",
        "rules = apriori(list_of_pairs,min_support= 0.00001,min_confidence=0.2,min_lift=2,min_length=1)\n",
        "for rule in rules:\n",
        "  print(rule)"
      ],
      "execution_count": null,
      "outputs": [
        {
          "output_type": "stream",
          "text": [
            "RelationRecord(items=frozenset({'for-the-home building-and-garden garden-and-patio', 'Mashhad'}), support=0.0006075059879969199, ordered_statistics=[OrderedStatistic(items_base=frozenset({'for-the-home building-and-garden garden-and-patio'}), items_add=frozenset({'Mashhad'}), confidence=0.37983870967741934, lift=2.553626640637631)])\n",
            "RelationRecord(items=frozenset({'Mashhad', 'leisure-hobbies animals fish'}), support=0.0005662316958187852, ordered_statistics=[OrderedStatistic(items_base=frozenset({'leisure-hobbies animals fish'}), items_add=frozenset({'Mashhad'}), confidence=0.3595413595413596, lift=2.4171691055806837)])\n",
            "RelationRecord(items=frozenset({'Tehran', 'electronic-devices audio-video mp3-player'}), support=0.0011711580405545717, ordered_statistics=[OrderedStatistic(items_base=frozenset({'electronic-devices audio-video mp3-player'}), items_add=frozenset({'Tehran'}), confidence=1.0, lift=2.1427809407992924)])\n",
            "RelationRecord(items=frozenset({'Tehran', 'electronic-devices audio-video video-dvdplayer'}), support=0.0011040873157651028, ordered_statistics=[OrderedStatistic(items_base=frozenset({'electronic-devices audio-video video-dvdplayer'}), items_add=frozenset({'Tehran'}), confidence=1.0, lift=2.1427809407992924)])\n",
            "RelationRecord(items=frozenset({'for-the-home building-and-garden bathroom-wc-sauna', 'Tehran'}), support=0.0014471798694958473, ordered_statistics=[OrderedStatistic(items_base=frozenset({'for-the-home building-and-garden bathroom-wc-sauna'}), items_add=frozenset({'Tehran'}), confidence=1.0, lift=2.1427809407992924)])\n",
            "RelationRecord(items=frozenset({'Tehran', 'for-the-home utensils-and-appliances dishwasher'}), support=0.0014742661237377482, ordered_statistics=[OrderedStatistic(items_base=frozenset({'for-the-home utensils-and-appliances dishwasher'}), items_add=frozenset({'Tehran'}), confidence=1.0, lift=2.1427809407992924)])\n",
            "RelationRecord(items=frozenset({'Tehran', 'for-the-home utility repair-tool'}), support=0.0004462782841760813, ordered_statistics=[OrderedStatistic(items_base=frozenset({'for-the-home utility repair-tool'}), items_add=frozenset({'Tehran'}), confidence=1.0, lift=2.1427809407992924)])\n",
            "RelationRecord(items=frozenset({'Tehran', 'leisure-hobbies animals cat'}), support=0.0006087958096274867, ordered_statistics=[OrderedStatistic(items_base=frozenset({'leisure-hobbies animals cat'}), items_add=frozenset({'Tehran'}), confidence=1.0, lift=2.1427809407992924)])\n",
            "RelationRecord(items=frozenset({'Tehran', 'leisure-hobbies animals rodents-rabbits'}), support=0.0006939240372448894, ordered_statistics=[OrderedStatistic(items_base=frozenset({'leisure-hobbies animals rodents-rabbits'}), items_add=frozenset({'Tehran'}), confidence=1.0, lift=2.1427809407992924)])\n",
            "RelationRecord(items=frozenset({'Tehran', 'leisure-hobbies hobby-collectibles coin-stamp'}), support=0.0005004507926598831, ordered_statistics=[OrderedStatistic(items_base=frozenset({'leisure-hobbies hobby-collectibles coin-stamp'}), items_add=frozenset({'Tehran'}), confidence=1.0, lift=2.1427809407992924)])\n",
            "RelationRecord(items=frozenset({'Tehran', 'leisure-hobbies musical-instruments drums-percussion'}), support=0.00045659685722061494, ordered_statistics=[OrderedStatistic(items_base=frozenset({'leisure-hobbies musical-instruments drums-percussion'}), items_add=frozenset({'Tehran'}), confidence=1.0, lift=2.1427809407992924)])\n",
            "RelationRecord(items=frozenset({'Tehran', 'leisure-hobbies musical-instruments guitar-bass-amplifier'}), support=0.0018147790342073595, ordered_statistics=[OrderedStatistic(items_base=frozenset({'leisure-hobbies musical-instruments guitar-bass-amplifier'}), items_add=frozenset({'Tehran'}), confidence=1.0, lift=2.1427809407992924)])\n",
            "RelationRecord(items=frozenset({'Tehran', 'leisure-hobbies musical-instruments piano-keyboard'}), support=0.0013659211067701448, ordered_statistics=[OrderedStatistic(items_base=frozenset({'leisure-hobbies musical-instruments piano-keyboard'}), items_add=frozenset({'Tehran'}), confidence=1.0, lift=2.1427809407992924)])\n",
            "RelationRecord(items=frozenset({'Tehran', 'leisure-hobbies musical-instruments traditional'}), support=0.0006087958096274867, ordered_statistics=[OrderedStatistic(items_base=frozenset({'leisure-hobbies musical-instruments traditional'}), items_add=frozenset({'Tehran'}), confidence=1.0, lift=2.1427809407992924)])\n",
            "RelationRecord(items=frozenset({'Tehran', 'leisure-hobbies sport-leisure ball-sports'}), support=0.0010047710502114663, ordered_statistics=[OrderedStatistic(items_base=frozenset({'leisure-hobbies sport-leisure ball-sports'}), items_add=frozenset({'Tehran'}), confidence=1.0, lift=2.1427809407992924)])\n",
            "RelationRecord(items=frozenset({'Tehran', 'leisure-hobbies sport-leisure camping-outdoor'}), support=0.0008499924545434612, ordered_statistics=[OrderedStatistic(items_base=frozenset({'leisure-hobbies sport-leisure camping-outdoor'}), items_add=frozenset({'Tehran'}), confidence=1.0, lift=2.1427809407992924)])\n",
            "RelationRecord(items=frozenset({'Tehran', 'leisure-hobbies sport-leisure winter-sports'}), support=0.001568423102769118, ordered_statistics=[OrderedStatistic(items_base=frozenset({'leisure-hobbies sport-leisure winter-sports'}), items_add=frozenset({'Tehran'}), confidence=1.0, lift=2.1427809407992924)])\n",
            "RelationRecord(items=frozenset({'Tehran', 'personal baby-and-toys child-car-seat'}), support=0.0013981666475343126, ordered_statistics=[OrderedStatistic(items_base=frozenset({'personal baby-and-toys child-car-seat'}), items_add=frozenset({'Tehran'}), confidence=1.0, lift=2.1427809407992924)])\n",
            "RelationRecord(items=frozenset({'Tehran', 'personal jewelry-and-watches rhinestones'}), support=0.0008616008492185616, ordered_statistics=[OrderedStatistic(items_base=frozenset({'personal jewelry-and-watches rhinestones'}), items_add=frozenset({'Tehran'}), confidence=1.0, lift=2.1427809407992924)])\n"
          ],
          "name": "stdout"
        }
      ]
    },
    {
      "cell_type": "code",
      "metadata": {
        "id": "uTpDFqsRBE9E"
      },
      "source": [
        "pairs = pairs.dropna()"
      ],
      "execution_count": null,
      "outputs": []
    },
    {
      "cell_type": "code",
      "metadata": {
        "id": "dmJkWkowAtIU"
      },
      "source": [
        "list_of_pairs = []\n",
        "for i in range(len(pairs)):\n",
        "    list_of_pairs.append([str(pairs.values[i,j]) for j in range(0, 2)])"
      ],
      "execution_count": null,
      "outputs": []
    },
    {
      "cell_type": "code",
      "metadata": {
        "id": "ye-poXtWBTxp"
      },
      "source": [
        "rules = apriori(list_of_pairs,min_support= 0.00001,min_confidence=0.2,min_lift=2,min_length=1)\n"
      ],
      "execution_count": null,
      "outputs": []
    },
    {
      "cell_type": "code",
      "metadata": {
        "colab": {
          "base_uri": "https://localhost:8080/"
        },
        "id": "dS0B_UE0DSo3",
        "outputId": "13b21951-22d2-4c03-b8be-8fecd9ef083a"
      },
      "source": [
        "for rule in rules:\n",
        "  print(rule)"
      ],
      "execution_count": null,
      "outputs": [
        {
          "output_type": "stream",
          "text": [
            "RelationRecord(items=frozenset({'for-the-home building-and-garden garden-and-patio', 'Mashhad'}), support=0.0006075059879969199, ordered_statistics=[OrderedStatistic(items_base=frozenset({'for-the-home building-and-garden garden-and-patio'}), items_add=frozenset({'Mashhad'}), confidence=0.37983870967741934, lift=2.553626640637631)])\n",
            "RelationRecord(items=frozenset({'Mashhad', 'leisure-hobbies animals fish'}), support=0.0005662316958187852, ordered_statistics=[OrderedStatistic(items_base=frozenset({'leisure-hobbies animals fish'}), items_add=frozenset({'Mashhad'}), confidence=0.3595413595413596, lift=2.4171691055806837)])\n",
            "RelationRecord(items=frozenset({'Tehran', 'electronic-devices audio-video mp3-player'}), support=0.0011711580405545717, ordered_statistics=[OrderedStatistic(items_base=frozenset({'electronic-devices audio-video mp3-player'}), items_add=frozenset({'Tehran'}), confidence=1.0, lift=2.1427809407992924)])\n",
            "RelationRecord(items=frozenset({'Tehran', 'electronic-devices audio-video video-dvdplayer'}), support=0.0011040873157651028, ordered_statistics=[OrderedStatistic(items_base=frozenset({'electronic-devices audio-video video-dvdplayer'}), items_add=frozenset({'Tehran'}), confidence=1.0, lift=2.1427809407992924)])\n",
            "RelationRecord(items=frozenset({'for-the-home building-and-garden bathroom-wc-sauna', 'Tehran'}), support=0.0014471798694958473, ordered_statistics=[OrderedStatistic(items_base=frozenset({'for-the-home building-and-garden bathroom-wc-sauna'}), items_add=frozenset({'Tehran'}), confidence=1.0, lift=2.1427809407992924)])\n",
            "RelationRecord(items=frozenset({'Tehran', 'for-the-home utensils-and-appliances dishwasher'}), support=0.0014742661237377482, ordered_statistics=[OrderedStatistic(items_base=frozenset({'for-the-home utensils-and-appliances dishwasher'}), items_add=frozenset({'Tehran'}), confidence=1.0, lift=2.1427809407992924)])\n",
            "RelationRecord(items=frozenset({'Tehran', 'for-the-home utility repair-tool'}), support=0.0004462782841760813, ordered_statistics=[OrderedStatistic(items_base=frozenset({'for-the-home utility repair-tool'}), items_add=frozenset({'Tehran'}), confidence=1.0, lift=2.1427809407992924)])\n",
            "RelationRecord(items=frozenset({'Tehran', 'leisure-hobbies animals cat'}), support=0.0006087958096274867, ordered_statistics=[OrderedStatistic(items_base=frozenset({'leisure-hobbies animals cat'}), items_add=frozenset({'Tehran'}), confidence=1.0, lift=2.1427809407992924)])\n",
            "RelationRecord(items=frozenset({'Tehran', 'leisure-hobbies animals rodents-rabbits'}), support=0.0006939240372448894, ordered_statistics=[OrderedStatistic(items_base=frozenset({'leisure-hobbies animals rodents-rabbits'}), items_add=frozenset({'Tehran'}), confidence=1.0, lift=2.1427809407992924)])\n",
            "RelationRecord(items=frozenset({'Tehran', 'leisure-hobbies hobby-collectibles coin-stamp'}), support=0.0005004507926598831, ordered_statistics=[OrderedStatistic(items_base=frozenset({'leisure-hobbies hobby-collectibles coin-stamp'}), items_add=frozenset({'Tehran'}), confidence=1.0, lift=2.1427809407992924)])\n",
            "RelationRecord(items=frozenset({'Tehran', 'leisure-hobbies musical-instruments drums-percussion'}), support=0.00045659685722061494, ordered_statistics=[OrderedStatistic(items_base=frozenset({'leisure-hobbies musical-instruments drums-percussion'}), items_add=frozenset({'Tehran'}), confidence=1.0, lift=2.1427809407992924)])\n",
            "RelationRecord(items=frozenset({'Tehran', 'leisure-hobbies musical-instruments guitar-bass-amplifier'}), support=0.0018147790342073595, ordered_statistics=[OrderedStatistic(items_base=frozenset({'leisure-hobbies musical-instruments guitar-bass-amplifier'}), items_add=frozenset({'Tehran'}), confidence=1.0, lift=2.1427809407992924)])\n",
            "RelationRecord(items=frozenset({'Tehran', 'leisure-hobbies musical-instruments piano-keyboard'}), support=0.0013659211067701448, ordered_statistics=[OrderedStatistic(items_base=frozenset({'leisure-hobbies musical-instruments piano-keyboard'}), items_add=frozenset({'Tehran'}), confidence=1.0, lift=2.1427809407992924)])\n",
            "RelationRecord(items=frozenset({'Tehran', 'leisure-hobbies musical-instruments traditional'}), support=0.0006087958096274867, ordered_statistics=[OrderedStatistic(items_base=frozenset({'leisure-hobbies musical-instruments traditional'}), items_add=frozenset({'Tehran'}), confidence=1.0, lift=2.1427809407992924)])\n",
            "RelationRecord(items=frozenset({'Tehran', 'leisure-hobbies sport-leisure ball-sports'}), support=0.0010047710502114663, ordered_statistics=[OrderedStatistic(items_base=frozenset({'leisure-hobbies sport-leisure ball-sports'}), items_add=frozenset({'Tehran'}), confidence=1.0, lift=2.1427809407992924)])\n",
            "RelationRecord(items=frozenset({'Tehran', 'leisure-hobbies sport-leisure camping-outdoor'}), support=0.0008499924545434612, ordered_statistics=[OrderedStatistic(items_base=frozenset({'leisure-hobbies sport-leisure camping-outdoor'}), items_add=frozenset({'Tehran'}), confidence=1.0, lift=2.1427809407992924)])\n",
            "RelationRecord(items=frozenset({'Tehran', 'leisure-hobbies sport-leisure winter-sports'}), support=0.001568423102769118, ordered_statistics=[OrderedStatistic(items_base=frozenset({'leisure-hobbies sport-leisure winter-sports'}), items_add=frozenset({'Tehran'}), confidence=1.0, lift=2.1427809407992924)])\n",
            "RelationRecord(items=frozenset({'Tehran', 'personal baby-and-toys child-car-seat'}), support=0.0013981666475343126, ordered_statistics=[OrderedStatistic(items_base=frozenset({'personal baby-and-toys child-car-seat'}), items_add=frozenset({'Tehran'}), confidence=1.0, lift=2.1427809407992924)])\n",
            "RelationRecord(items=frozenset({'Tehran', 'personal jewelry-and-watches rhinestones'}), support=0.0008616008492185616, ordered_statistics=[OrderedStatistic(items_base=frozenset({'personal jewelry-and-watches rhinestones'}), items_add=frozenset({'Tehran'}), confidence=1.0, lift=2.1427809407992924)])\n"
          ],
          "name": "stdout"
        }
      ]
    },
    {
      "cell_type": "markdown",
      "metadata": {
        "id": "OOSjJVsKEPAD"
      },
      "source": [
        "**TASK 2**\n",
        "\n",
        "\n"
      ]
    },
    {
      "cell_type": "code",
      "metadata": {
        "id": "i67u0hPAJg3k"
      },
      "source": [
        "pairs = digikala_dataset[['city_name_fa','ID_Item']]\n",
        "pairs = pairs.dropna()\n",
        "list_of_pairs = []\n",
        "for i in range(len(pairs)):\n",
        "    list_of_pairs.append([str(pairs.values[i,j]) for j in range(0, 2)])\n",
        "rules = apriori(list_of_pairs,min_support= 0.01,min_confidence=0.2,min_lift=2,min_length=1)\n",
        "for rule in rules:\n",
        "  print(rule)"
      ],
      "execution_count": null,
      "outputs": []
    },
    {
      "cell_type": "code",
      "metadata": {
        "id": "tYjJxknOKC7Q"
      },
      "source": [
        "pairs = divar_dataset[['created_at','platform']]\n",
        "pairs = pairs.dropna()\n",
        "list_of_pairs = []\n",
        "for i in range(len(pairs)):\n",
        "    list_of_pairs.append([str(pairs.values[i,j]) for j in range(0, 2)])\n",
        "rules = apriori(list_of_pairs,min_support= 0.00001,min_confidence=0.2,min_lift=2,min_length=1)\n",
        "for rule in rules:\n",
        "  print(rule)"
      ],
      "execution_count": null,
      "outputs": []
    },
    {
      "cell_type": "code",
      "metadata": {
        "id": "lVA7BAxRKD_T"
      },
      "source": [
        "pairs = divar_dataset[['platform','categories']]\n",
        "pairs = pairs.dropna()\n",
        "list_of_pairs = []\n",
        "for i in range(len(pairs)):\n",
        "    list_of_pairs.append([str(pairs.values[i,j]) for j in range(0, 2)])\n",
        "rules = apriori(list_of_pairs,min_support= 0.00001,min_confidence=0.2,min_lift=2,min_length=1)\n",
        "for rule in rules:\n",
        "  print(rule)"
      ],
      "execution_count": null,
      "outputs": []
    }
  ]
}